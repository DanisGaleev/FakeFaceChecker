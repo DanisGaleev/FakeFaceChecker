{
  "cells": [
    {
      "cell_type": "markdown",
      "metadata": {
        "id": "view-in-github",
        "colab_type": "text"
      },
      "source": [
        "<a href=\"https://colab.research.google.com/github/DanisGaleev/FakeFaceChecker/blob/main/Model.ipynb\" target=\"_parent\"><img src=\"https://colab.research.google.com/assets/colab-badge.svg\" alt=\"Open In Colab\"/></a>"
      ]
    },
    {
      "cell_type": "code",
      "execution_count": null,
      "metadata": {
        "id": "5HtKW09-Wz0n"
      },
      "outputs": [],
      "source": [
        "! pip install -q kaggle"
      ]
    },
    {
      "cell_type": "code",
      "execution_count": null,
      "metadata": {
        "id": "AZUFSVYL7rAY"
      },
      "outputs": [],
      "source": [
        "from google.colab import files\n",
        "files.upload() #json файл из личного кабинета kaggle для скачивания датасета"
      ]
    },
    {
      "cell_type": "code",
      "execution_count": null,
      "metadata": {
        "id": "fttp_TQc72ft"
      },
      "outputs": [],
      "source": [
        "! mkdir ~/.kaggle\n",
        "! cp kaggle.json ~/.kaggle/\n",
        "! chmod 600 ~/.kaggle/kaggle.json\n",
        "! kaggle datasets list"
      ]
    },
    {
      "cell_type": "code",
      "execution_count": null,
      "metadata": {
        "id": "qOaUMKYL8KCc"
      },
      "outputs": [],
      "source": [
        "!kaggle datasets download -d xhlulu/140k-real-and-fake-faces\n",
        "! unzip 140k-real-and-fake-faces.zip"
      ]
    },
    {
      "cell_type": "code",
      "execution_count": null,
      "metadata": {
        "id": "EbdPAOJ2-WA7"
      },
      "outputs": [],
      "source": [
        "!pip install numpy\n",
        "!pip install seaborn\n",
        "!pip install matplotlib\n",
        "!pip install opencv-python\n",
        "!pip install tensorflow\n",
        "!pip install keras\n",
        "!pip install scikit-learn"
      ]
    },
    {
      "cell_type": "code",
      "execution_count": null,
      "metadata": {
        "id": "APFgIRMaWpB2"
      },
      "outputs": [],
      "source": [
        "import numpy as np\n",
        "import seaborn as sns\n",
        "import matplotlib.pyplot as plt\n",
        "import os\n",
        "import cv2\n",
        "import tensorflow as tf\n",
        "from tensorflow import *\n",
        "from tensorflow.keras import optimizers\n",
        "from tensorflow.keras.layers import *\n",
        "from tensorflow.keras.models import Model, load_model\n",
        "from tensorflow.keras.callbacks import EarlyStopping, ModelCheckpoint\n",
        "from sklearn.model_selection import train_test_split"
      ]
    },
    {
      "cell_type": "code",
      "execution_count": null,
      "metadata": {
        "id": "qsRovtM4WpB5"
      },
      "outputs": [],
      "source": [
        "IMAGE_SIZE = 128\n",
        "BATCH_SIZE = 128\n",
        "CHANNELS = 3\n",
        "train_size = 10000\n",
        "test_size = 8000\n",
        "gpus = tf.config.list_physical_devices('GPU')"
      ]
    },
    {
      "cell_type": "code",
      "execution_count": null,
      "metadata": {
        "id": "l6ptSmObWpB6"
      },
      "outputs": [],
      "source": [
        "def read_and_preprocess(img_path):\n",
        "    img = cv2.imread(img_path, cv2.IMREAD_COLOR)\n",
        "    img = cv2.resize(img, (IMAGE_SIZE, IMAGE_SIZE))\n",
        "    img = np.array(img, dtype='float32')\n",
        "    img = img / 255\n",
        "    return img"
      ]
    },
    {
      "cell_type": "code",
      "execution_count": null,
      "metadata": {
        "id": "0ZoNLYNvWpB7"
      },
      "outputs": [],
      "source": [
        "labels = ['real', 'fake']\n",
        "\n",
        "X = []\n",
        "y = []\n",
        "\n",
        "# labels -\n",
        "# 0 - Real\n",
        "# 1 - Fake\n",
        "image_path = '//content//real_vs_fake//real-vs-fake//train//'"
      ]
    },
    {
      "cell_type": "code",
      "execution_count": null,
      "metadata": {
        "id": "pj5AuCkKWpB8"
      },
      "outputs": [],
      "source": [
        "s = 0\n",
        "c = 0\n",
        "X = np.empty((train_size, 128, 128, 3))\n",
        "y = np.empty(train_size)\n",
        "for folder in os.scandir(image_path):\n",
        "  for entry in os.scandir(image_path + folder.name):\n",
        "    X[c] = read_and_preprocess(image_path + folder.name + '/' + entry.name)\n",
        "    if folder.name[0] == 'r':\n",
        "        y[c] = 0 # real\n",
        "    else:\n",
        "        y[c] = 1 # fake\n",
        "    s += 1\n",
        "    c += 1\n",
        "    if s == train_size // 2:\n",
        "      s = 0\n",
        "      break\n",
        "print(X.shape, y.shape)"
      ]
    },
    {
      "cell_type": "code",
      "execution_count": null,
      "metadata": {
        "id": "0JZGmikEWpCA",
        "colab": {
          "base_uri": "https://localhost:8080/"
        },
        "outputId": "2349739e-bb49-424d-ca27-6e45de5745d5"
      },
      "outputs": [
        {
          "output_type": "stream",
          "name": "stdout",
          "text": [
            "(8000, 128, 128, 3) (8000,) array([1., 1., 1., 0., 0., 0., 0., 1., 1., 0., 1., 0., 0., 0., 1., 0., 1.,\n",
            "       0., 1., 0., 1., 0., 0., 1., 0., 1., 0., 1., 0., 0., 0., 0., 0., 1.,\n",
            "       1., 1., 1., 1., 1., 0., 1., 1., 1., 1., 0., 0., 1., 1., 1., 0., 0.,\n",
            "       1., 1., 0., 1., 0., 0., 1., 0., 1., 0., 1., 0., 0., 0., 0., 1., 1.,\n",
            "       0., 1., 1., 0., 0., 1., 0., 0., 1., 0., 0., 0., 0., 0., 1., 1., 1.,\n",
            "       0., 0., 1., 0., 1., 1., 0., 0., 0., 0., 1., 1., 0., 1., 1., 1., 1.,\n",
            "       1., 1., 1., 1., 0., 1., 0., 0., 1., 0., 1., 0., 1., 1., 1., 0., 0.,\n",
            "       1., 1., 1., 1., 1., 1., 1., 0., 0., 0., 0., 1., 1., 0., 0., 0., 0.,\n",
            "       0., 0., 0., 0., 0., 1., 1., 1., 0., 1., 0., 0., 1., 1., 0., 1., 1.,\n",
            "       0., 1., 1., 0., 1., 0., 0., 1., 0., 0., 1., 0., 0., 1., 0., 1., 0.,\n",
            "       0., 1., 1., 0., 0., 0., 1., 1., 0., 0., 1., 0., 1., 1., 0., 1., 1.,\n",
            "       1., 0., 1., 0., 1., 0., 0., 1., 1., 0., 0., 1., 0.])\n"
          ]
        }
      ],
      "source": [
        "X_train, X_val, y_train, y_val = train_test_split(X, y,\n",
        "                                                  test_size=0.2,\n",
        "                                                  shuffle=True,\n",
        "                                                  stratify=y,\n",
        "                                                  random_state=123)\n",
        "del X, y\n",
        "print(X_train.shape, y_train.shape, y_train[:200])"
      ]
    },
    {
      "cell_type": "code",
      "execution_count": null,
      "metadata": {
        "id": "-e-JorsIWpCC"
      },
      "outputs": [],
      "source": [
        "input_shape = (IMAGE_SIZE, IMAGE_SIZE, CHANNELS)\n",
        "n_classes = 2\n",
        "\n",
        "model = tf.keras.Sequential([\n",
        "    tf.keras.layers.Conv2D(filters=32, kernel_size=(3,3), activation='relu', input_shape=input_shape),\n",
        "    tf.keras.layers.MaxPooling2D((2,2)),\n",
        "\n",
        "    tf.keras.layers.Conv2D(filters=64, kernel_size=(2,2), activation='relu'),\n",
        "    tf.keras.layers.MaxPooling2D((4,4)),\n",
        "\n",
        "    tf.keras.layers.Conv2D(filters=128, kernel_size=(2,2), activation='relu'),\n",
        "    tf.keras.layers.MaxPooling2D((3,3)),\n",
        "\n",
        "    tf.keras.layers.Flatten(),\n",
        "    tf.keras.layers.Dense(256, activation='relu'),\n",
        "    tf.keras.layers.Dense(192, activation='relu'),\n",
        "    tf.keras.layers.Dense(64, activation='relu'),\n",
        "    tf.keras.layers.Dense(n_classes, activation='softmax')\n",
        "])"
      ]
    },
    {
      "cell_type": "code",
      "execution_count": null,
      "metadata": {
        "id": "BMq38WhDWpCD",
        "colab": {
          "base_uri": "https://localhost:8080/"
        },
        "outputId": "662c89b7-eb00-4257-8e2b-fd91f2c4100c"
      },
      "outputs": [
        {
          "output_type": "stream",
          "name": "stdout",
          "text": [
            "Model: \"sequential\"\n",
            "_________________________________________________________________\n",
            " Layer (type)                Output Shape              Param #   \n",
            "=================================================================\n",
            " conv2d (Conv2D)             (None, 126, 126, 32)      896       \n",
            "                                                                 \n",
            " max_pooling2d (MaxPooling2  (None, 63, 63, 32)        0         \n",
            " D)                                                              \n",
            "                                                                 \n",
            " conv2d_1 (Conv2D)           (None, 62, 62, 64)        8256      \n",
            "                                                                 \n",
            " max_pooling2d_1 (MaxPoolin  (None, 15, 15, 64)        0         \n",
            " g2D)                                                            \n",
            "                                                                 \n",
            " conv2d_2 (Conv2D)           (None, 14, 14, 128)       32896     \n",
            "                                                                 \n",
            " max_pooling2d_2 (MaxPoolin  (None, 4, 4, 128)         0         \n",
            " g2D)                                                            \n",
            "                                                                 \n",
            " flatten (Flatten)           (None, 2048)              0         \n",
            "                                                                 \n",
            " dense (Dense)               (None, 256)               524544    \n",
            "                                                                 \n",
            " dense_1 (Dense)             (None, 192)               49344     \n",
            "                                                                 \n",
            " dense_2 (Dense)             (None, 64)                12352     \n",
            "                                                                 \n",
            " dense_3 (Dense)             (None, 2)                 130       \n",
            "                                                                 \n",
            "=================================================================\n",
            "Total params: 628418 (2.40 MB)\n",
            "Trainable params: 628418 (2.40 MB)\n",
            "Non-trainable params: 0 (0.00 Byte)\n",
            "_________________________________________________________________\n"
          ]
        }
      ],
      "source": [
        "model.summary()"
      ]
    },
    {
      "cell_type": "code",
      "execution_count": null,
      "metadata": {
        "id": "9aHyKkvAWpCD"
      },
      "outputs": [],
      "source": [
        "model.compile(loss = 'sparse_categorical_crossentropy', optimizer='Adam', metrics= ['accuracy'])"
      ]
    },
    {
      "cell_type": "code",
      "execution_count": null,
      "metadata": {
        "id": "SN_ed2HzWpCE"
      },
      "outputs": [],
      "source": [
        "earlystopping = EarlyStopping(monitor='val_loss', mode='min', verbose=1, patience=10)\n",
        "checkpointer = ModelCheckpoint(filepath=\"fakevsreal_weights2.h5\", monitor='val_accuracy', mode='max', verbose=1, save_best_only=True)"
      ]
    },
    {
      "cell_type": "code",
      "execution_count": null,
      "metadata": {
        "id": "vEB-5FeHWpCE",
        "scrolled": false,
        "colab": {
          "base_uri": "https://localhost:8080/"
        },
        "outputId": "7f1f58a5-28b8-4068-c4a9-400426f950aa"
      },
      "outputs": [
        {
          "output_type": "stream",
          "name": "stdout",
          "text": [
            "Epoch 1/15\n",
            "63/63 [==============================] - ETA: 0s - loss: 0.6879 - accuracy: 0.5411\n",
            "Epoch 1: val_accuracy improved from -inf to 0.58500, saving model to fakevsreal_weights.h5\n",
            "63/63 [==============================] - 13s 86ms/step - loss: 0.6879 - accuracy: 0.5411 - val_loss: 0.6710 - val_accuracy: 0.5850\n",
            "Epoch 2/15\n",
            " 2/63 [..............................] - ETA: 3s - loss: 0.6612 - accuracy: 0.5938"
          ]
        },
        {
          "output_type": "stream",
          "name": "stderr",
          "text": [
            "/usr/local/lib/python3.10/dist-packages/keras/src/engine/training.py:3103: UserWarning: You are saving your model as an HDF5 file via `model.save()`. This file format is considered legacy. We recommend using instead the native Keras format, e.g. `model.save('my_model.keras')`.\n",
            "  saving_api.save_model(\n"
          ]
        },
        {
          "output_type": "stream",
          "name": "stdout",
          "text": [
            "62/63 [============================>.] - ETA: 0s - loss: 0.6482 - accuracy: 0.6177\n",
            "Epoch 2: val_accuracy improved from 0.58500 to 0.68300, saving model to fakevsreal_weights.h5\n",
            "63/63 [==============================] - 3s 50ms/step - loss: 0.6482 - accuracy: 0.6176 - val_loss: 0.6149 - val_accuracy: 0.6830\n",
            "Epoch 3/15\n",
            "62/63 [============================>.] - ETA: 0s - loss: 0.5852 - accuracy: 0.6907\n",
            "Epoch 3: val_accuracy did not improve from 0.68300\n",
            "63/63 [==============================] - 3s 56ms/step - loss: 0.5844 - accuracy: 0.6916 - val_loss: 0.5946 - val_accuracy: 0.6805\n",
            "Epoch 4/15\n",
            "63/63 [==============================] - ETA: 0s - loss: 0.5238 - accuracy: 0.7354\n",
            "Epoch 4: val_accuracy improved from 0.68300 to 0.74950, saving model to fakevsreal_weights.h5\n",
            "63/63 [==============================] - 3s 51ms/step - loss: 0.5238 - accuracy: 0.7354 - val_loss: 0.5074 - val_accuracy: 0.7495\n",
            "Epoch 5/15\n",
            "63/63 [==============================] - ETA: 0s - loss: 0.4880 - accuracy: 0.7626\n",
            "Epoch 5: val_accuracy did not improve from 0.74950\n",
            "63/63 [==============================] - 3s 50ms/step - loss: 0.4880 - accuracy: 0.7626 - val_loss: 0.5813 - val_accuracy: 0.7160\n",
            "Epoch 6/15\n",
            "63/63 [==============================] - ETA: 0s - loss: 0.4371 - accuracy: 0.7964\n",
            "Epoch 6: val_accuracy improved from 0.74950 to 0.75400, saving model to fakevsreal_weights.h5\n",
            "63/63 [==============================] - 3s 51ms/step - loss: 0.4371 - accuracy: 0.7964 - val_loss: 0.5000 - val_accuracy: 0.7540\n",
            "Epoch 7/15\n",
            "63/63 [==============================] - ETA: 0s - loss: 0.3872 - accuracy: 0.8234\n",
            "Epoch 7: val_accuracy improved from 0.75400 to 0.78950, saving model to fakevsreal_weights.h5\n",
            "63/63 [==============================] - 3s 55ms/step - loss: 0.3872 - accuracy: 0.8234 - val_loss: 0.4619 - val_accuracy: 0.7895\n",
            "Epoch 8/15\n",
            "62/63 [============================>.] - ETA: 0s - loss: 0.3350 - accuracy: 0.8535\n",
            "Epoch 8: val_accuracy improved from 0.78950 to 0.80600, saving model to fakevsreal_weights.h5\n",
            "63/63 [==============================] - 4s 66ms/step - loss: 0.3339 - accuracy: 0.8537 - val_loss: 0.4577 - val_accuracy: 0.8060\n",
            "Epoch 9/15\n",
            "63/63 [==============================] - ETA: 0s - loss: 0.3103 - accuracy: 0.8649\n",
            "Epoch 9: val_accuracy did not improve from 0.80600\n",
            "63/63 [==============================] - 3s 50ms/step - loss: 0.3103 - accuracy: 0.8649 - val_loss: 0.4866 - val_accuracy: 0.7900\n",
            "Epoch 10/15\n",
            "63/63 [==============================] - ETA: 0s - loss: 0.2572 - accuracy: 0.8917\n",
            "Epoch 10: val_accuracy did not improve from 0.80600\n",
            "63/63 [==============================] - 4s 58ms/step - loss: 0.2572 - accuracy: 0.8917 - val_loss: 0.4911 - val_accuracy: 0.8030\n",
            "Epoch 11/15\n",
            "63/63 [==============================] - ETA: 0s - loss: 0.2179 - accuracy: 0.9118\n",
            "Epoch 11: val_accuracy improved from 0.80600 to 0.81050, saving model to fakevsreal_weights.h5\n",
            "63/63 [==============================] - 3s 52ms/step - loss: 0.2179 - accuracy: 0.9118 - val_loss: 0.4955 - val_accuracy: 0.8105\n",
            "Epoch 12/15\n",
            "63/63 [==============================] - ETA: 0s - loss: 0.1784 - accuracy: 0.9300\n",
            "Epoch 12: val_accuracy improved from 0.81050 to 0.81800, saving model to fakevsreal_weights.h5\n",
            "63/63 [==============================] - 3s 51ms/step - loss: 0.1784 - accuracy: 0.9300 - val_loss: 0.4830 - val_accuracy: 0.8180\n",
            "Epoch 13/15\n",
            "63/63 [==============================] - ETA: 0s - loss: 0.1609 - accuracy: 0.9373\n",
            "Epoch 13: val_accuracy improved from 0.81800 to 0.82700, saving model to fakevsreal_weights.h5\n",
            "63/63 [==============================] - 3s 52ms/step - loss: 0.1609 - accuracy: 0.9373 - val_loss: 0.4718 - val_accuracy: 0.8270\n",
            "Epoch 14/15\n",
            "62/63 [============================>.] - ETA: 0s - loss: 0.1680 - accuracy: 0.9331\n",
            "Epoch 14: val_accuracy did not improve from 0.82700\n",
            "63/63 [==============================] - 3s 55ms/step - loss: 0.1676 - accuracy: 0.9333 - val_loss: 0.4675 - val_accuracy: 0.8180\n",
            "Epoch 15/15\n",
            "62/63 [============================>.] - ETA: 0s - loss: 0.0893 - accuracy: 0.9695\n",
            "Epoch 15: val_accuracy improved from 0.82700 to 0.83500, saving model to fakevsreal_weights.h5\n",
            "63/63 [==============================] - 3s 51ms/step - loss: 0.0893 - accuracy: 0.9695 - val_loss: 0.5677 - val_accuracy: 0.8350\n"
          ]
        }
      ],
      "source": [
        "with tf.device(\"/device:GPU:1\"):\n",
        "    history = model.fit(X_train, y_train, epochs = 15, validation_data=(X_val, y_val), batch_size=BATCH_SIZE, shuffle=True, callbacks=[earlystopping, checkpointer])"
      ]
    },
    {
      "cell_type": "code",
      "execution_count": null,
      "metadata": {
        "id": "vT1CXAAsWpCE",
        "colab": {
          "base_uri": "https://localhost:8080/",
          "height": 927
        },
        "outputId": "a2fea309-05d8-4872-a947-6d0e06bc9483"
      },
      "outputs": [
        {
          "output_type": "display_data",
          "data": {
            "text/plain": [
              "<Figure size 640x480 with 1 Axes>"
            ],
            "image/png": "[encoded data removed]"
          },
          "metadata": {}
        },
        {
          "output_type": "display_data",
          "data": {
            "text/plain": [
              "<Figure size 640x480 with 1 Axes>"
            ],
            "image/png": "[encoded data removed]"
          },
          "metadata": {}
        }
      ],
      "source": [
        "model_json = model.to_json()\n",
        "with open(\"fakevsreal_model2.json\",\"w\") as json_file:\n",
        "  json_file.write(model_json)\n",
        "\n",
        "plt.plot(history.history['loss'])\n",
        "plt.plot(history.history['val_loss'])\n",
        "plt.title('model loss')\n",
        "plt.ylabel('loss')\n",
        "plt.xlabel('epoch')\n",
        "plt.legend(['train', 'val'], loc='upper right')\n",
        "plt.show()\n",
        "\n",
        "plt.plot(history.history['accuracy'])\n",
        "plt.plot(history.history['val_accuracy'])\n",
        "plt.title('model accuracy')\n",
        "plt.ylabel('accuracy')\n",
        "plt.xlabel('epoch')\n",
        "plt.legend(['train', 'val'], loc='upper left')\n",
        "plt.show()"
      ]
    },
    {
      "cell_type": "code",
      "execution_count": null,
      "metadata": {
        "id": "Yg1nGyYUBPJV"
      },
      "outputs": [],
      "source": [
        "X_test = np.empty((test_size, IMAGE_SIZE, IMAGE_SIZE, CHANNELS))\n",
        "y_test = np.empty(test_size)\n",
        "image_path = '//content//real_vs_fake//real-vs-fake//test//'\n",
        "c = 0\n",
        "s = 0\n",
        "# for folder in os.scandir(image_path):\n",
        "#   for entry in os.scandir(image_path + folder.name):\n",
        "#     if folder.name[0] == 'f':\n",
        "#       X_test[c] = read_and_preprocess(image_path + folder.name + '/' + entry.name)\n",
        "#       print(image_path + folder.name + '/' + entry.name)\n",
        "#       if folder.name[0] == 'f':\n",
        "#           y_test[c] = 1 # real\n",
        "#       s += 1\n",
        "#       c += 1\n",
        "#       if c == test_size:\n",
        "#         break\n",
        "# print(y_test[:200])\n",
        "for folder in os.scandir(image_path):\n",
        "  for entry in os.scandir(image_path + folder.name):\n",
        "    X_test[c] = read_and_preprocess(image_path + folder.name + '/' + entry.name)\n",
        "    # print(image_path + folder.name + '/' + entry.name)\n",
        "    if folder.name[0] == 'r':\n",
        "        y_test[c] = 0 # real\n",
        "    else:\n",
        "        y_test[c] = 1 # fake\n",
        "    s += 1\n",
        "    c += 1\n",
        "\n",
        "    if s == test_size // 2:\n",
        "      s = 0\n",
        "      break\n"
      ]
    },
    {
      "cell_type": "code",
      "execution_count": null,
      "metadata": {
        "id": "zjj2FR2MWpCG"
      },
      "outputs": [],
      "source": [
        "model = tf.keras.models.load_model('/content/fakevsreal_weights2.h5')\n",
        "model.compile(loss = 'sparse_categorical_crossentropy', optimizer='Adam', metrics= [\"accuracy\"])"
      ]
    },
    {
      "cell_type": "code",
      "execution_count": null,
      "metadata": {
        "colab": {
          "base_uri": "https://localhost:8080/"
        },
        "id": "b3VlrISHWpCG",
        "outputId": "5eb76820-0935-486b-d833-cd7dc6ef8540"
      },
      "outputs": [
        {
          "output_type": "stream",
          "name": "stdout",
          "text": [
            "250/250 [==============================] - 4s 5ms/step\n",
            "250/250 [==============================] - 2s 6ms/step - loss: 0.5663 - accuracy: 0.8216\n",
            "[0.5662536025047302, 0.8216249942779541]\n"
          ]
        }
      ],
      "source": [
        "predictions = model.predict(X_test)\n",
        "print(model.evaluate(X_test, y_test))"
      ]
    },
    {
      "cell_type": "code",
      "source": [
        "predict = []\n",
        "\n",
        "for i in predictions:\n",
        "  predict.append(np.argmax(i))\n",
        "  print(np.argmax(i))\n",
        "\n",
        "predict = np.asarray(predict)"
      ],
      "metadata": {
        "id": "Ut2_85PTyK4e"
      },
      "execution_count": null,
      "outputs": []
    },
    {
      "cell_type": "code",
      "source": [
        "from sklearn.metrics import accuracy_score\n",
        "\n",
        "accuracy = accuracy_score(y_test, predict)\n",
        "accuracy"
      ],
      "metadata": {
        "id": "LsgI2EkPyNSX",
        "outputId": "ea7f8ed1-1253-487b-b39b-36ecbe5c0761",
        "colab": {
          "base_uri": "https://localhost:8080/"
        }
      },
      "execution_count": null,
      "outputs": [
        {
          "output_type": "execute_result",
          "data": {
            "text/plain": [
              "0.821625"
            ]
          },
          "metadata": {},
          "execution_count": 9
        }
      ]
    },
    {
      "cell_type": "code",
      "execution_count": null,
      "metadata": {
        "colab": {
          "base_uri": "https://localhost:8080/",
          "height": 616
        },
        "id": "8O6OOYL5WpCH",
        "outputId": "17db5b26-a77f-4a56-b0f4-e8cf29a4aaa3",
        "scrolled": false
      },
      "outputs": [
        {
          "output_type": "execute_result",
          "data": {
            "text/plain": [
              "<Axes: >"
            ]
          },
          "metadata": {},
          "execution_count": 10
        },
        {
          "output_type": "display_data",
          "data": {
            "text/plain": [
              "<Figure size 900x700 with 2 Axes>"
            ],
            "image/png": "[encoded data removed]"
          },
          "metadata": {}
        }
      ],
      "source": [
        "from sklearn.metrics import confusion_matrix\n",
        "\n",
        "cf_matrix = confusion_matrix(y_test, predict)\n",
        "plt.figure(figsize = (9,7))\n",
        "\n",
        "group_names = ['Real Images Predicted Correctly','Real Images Predicted as Fake','Fake Images Predicted as Real','Fake Images Predicted Correctly']\n",
        "group_counts = [\"{0:0.0f}\".format(value) for value in cf_matrix.flatten()]\n",
        "group_percentages = [\"{0:.2%}\".format(value) for value in cf_matrix.flatten()/np.sum(cf_matrix)]\n",
        "labels = [f\"{v1}\\n{v2}\\n{v3}\" for v1, v2, v3 in zip(group_names,group_counts,group_percentages)]\n",
        "labels = np.asarray(labels).reshape(2,2)\n",
        "sns.heatmap(cf_matrix, annot=labels, fmt='', cmap='Blues')"
      ]
    },
    {
      "cell_type": "code",
      "execution_count": null,
      "metadata": {
        "id": "8K0Nf9t1WpCI",
        "colab": {
          "base_uri": "https://localhost:8080/"
        },
        "outputId": "66ab300e-ba2f-433e-c42f-c70a74a137d2"
      },
      "outputs": [
        {
          "output_type": "stream",
          "name": "stdout",
          "text": [
            "              precision    recall  f1-score   support\n",
            "\n",
            "         0.0       0.84      0.80      0.82      4000\n",
            "         1.0       0.81      0.84      0.83      4000\n",
            "\n",
            "    accuracy                           0.82      8000\n",
            "   macro avg       0.82      0.82      0.82      8000\n",
            "weighted avg       0.82      0.82      0.82      8000\n",
            "\n"
          ]
        }
      ],
      "source": [
        "from sklearn.metrics import classification_report\n",
        "\n",
        "report = classification_report(y_test, predict)\n",
        "print(report)"
      ]
    },
    {
      "cell_type": "code",
      "source": [
        "pip install \"google-cloud-aiplatform>=1.38\""
      ],
      "metadata": {
        "id": "YDmE09I4_1dQ"
      },
      "execution_count": null,
      "outputs": []
    },
    {
      "cell_type": "code",
      "source": [
        "# TODO(developer): Vertex AI SDK - uncomment below & run\n",
        "# pip3 install --upgrade --user google-cloud-aiplatform\n",
        "# gcloud auth application-default login\n",
        "\n",
        "import vertexai\n",
        "from vertexai.generative_models import GenerativeModel, Part\n",
        "\n",
        "\n",
        "def generate_text(project_id: str, location: str) -> str:\n",
        "    # Initialize Vertex AI\n",
        "    vertexai.init(project=project_id, location=location)\n",
        "    # Load the model\n",
        "    multimodal_model = GenerativeModel(\"gemini-1.0-pro-vision\")\n",
        "    # Query the model\n",
        "    response = multimodal_model.generate_content(\n",
        "        [\n",
        "            # Add an example image\n",
        "            Part.from_uri(\n",
        "                \"gs://generativeai-downloads/images/scones.jpg\", mime_type=\"image/jpeg\"\n",
        "            ),\n",
        "            # Add an example query\n",
        "            \"what is shown in this image?\",\n",
        "        ]\n",
        "    )\n",
        "    print(response)\n",
        "    return response.text\n",
        "generate_text()\n"
      ],
      "metadata": {
        "id": "fPE46fZ4AJ_y"
      },
      "execution_count": null,
      "outputs": []
    }
  ],
  "metadata": {
    "accelerator": "GPU",
    "colab": {
      "provenance": [],
      "gpuType": "T4",
      "include_colab_link": true
    },
    "kernelspec": {
      "display_name": "Python 3",
      "name": "python3"
    },
    "language_info": {
      "codemirror_mode": {
        "name": "ipython",
        "version": 3
      },
      "file_extension": ".py",
      "mimetype": "text/x-python",
      "name": "python",
      "nbconvert_exporter": "python",
      "pygments_lexer": "ipython3",
      "version": "3.8.12"
    }
  },
  "nbformat": 4,
  "nbformat_minor": 0
}